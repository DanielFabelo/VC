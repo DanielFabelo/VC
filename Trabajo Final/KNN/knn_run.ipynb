{
 "cells": [
  {
   "cell_type": "markdown",
   "metadata": {},
   "source": [
    "##### Carga del dataset #####"
   ]
  },
  {
   "cell_type": "code",
   "execution_count": 1,
   "metadata": {},
   "outputs": [
    {
     "name": "stdout",
     "output_type": "stream",
     "text": [
      "Folders: ['A:70', 'B:70', 'C:70', 'D:70', 'E:70', 'F:70', 'G:70', 'H:70', 'I:70', 'J:70', 'K:70', 'L:70', 'M:70', 'N:70', 'O:70', 'P:70', 'Q:70', 'R:70', 'S:70', 'T:65', 'U:70', 'V:70', 'W:70', 'X:70', 'Y:70', 'Z:70']\n"
     ]
    }
   ],
   "source": [
    "import numpy as np\n",
    "import pandas as pd\n",
    "import os, cv2\n",
    "\n",
    "directory_path = '../Dataset/'\n",
    "folders_list = []    \n",
    "      \n",
    "for item in os.listdir(directory_path):\n",
    "    item_path = os.path.join(directory_path, item)\n",
    "    if os.path.isfile(item_path):\n",
    "        folders_list += [item]\n",
    "    elif os.path.isdir(item_path):\n",
    "        folders_list += [f'{item}:{len(os.listdir(item_path))}']        \n",
    "\n",
    "print(f'Carpetas: {folders_list}')"
   ]
  },
  {
   "cell_type": "markdown",
   "metadata": {},
   "source": [
    "##### Detección y visualización de landmarks #####"
   ]
  },
  {
   "cell_type": "code",
   "execution_count": 2,
   "metadata": {},
   "outputs": [],
   "source": [
    "import mediapipe as mp\n",
    "\n",
    "# Función para dibujar puntos de referencia a mano\n",
    "def draw_landmarks_on_image(rgb_image, detection_result):\n",
    "    hand_landmarks_list = detection_result.multi_hand_landmarks \n",
    "    annotated_image = np.copy(rgb_image) \n",
    "\n",
    "    for hand_landmarks in hand_landmarks_list:\n",
    "        mp.solutions.drawing_utils.draw_landmarks(\n",
    "            annotated_image,  # Imagen para dibujar\n",
    "            hand_landmarks,  # Puntos clave para dibujar\n",
    "            mp.solutions.hands.HAND_CONNECTIONS  # Conexiones entre puntos clave\n",
    "        )\n",
    "\n",
    "    return annotated_image\n",
    "\n",
    "# Inizializza MediaPipe Hands\n",
    "mp_hands = mp.solutions.hands\n",
    "hands = mp_hands.Hands(min_detection_confidence=0.7, min_tracking_confidence=0.7)\n",
    "\n",
    "cap = cv2.VideoCapture(0)\n",
    "\n",
    "while cap.isOpened():\n",
    "    success, frame = cap.read()\n",
    "    if not success:\n",
    "        break\n",
    "\n",
    "    rgb_image = cv2.cvtColor(frame, cv2.COLOR_BGR2RGB)\n",
    "\n",
    "    # Detecta los puntos clave de las manos\n",
    "    results = hands.process(rgb_image)\n",
    "\n",
    "    # Dibuja landmarks\n",
    "    if results.multi_hand_landmarks:\n",
    "        annotated_image = draw_landmarks_on_image(frame, results)\n",
    "    else:\n",
    "        annotated_image = frame \n",
    "\n",
    "    cv2.imshow('Hand Landmarks', annotated_image)\n",
    "\n",
    "    # Presionar 'q' para salir\n",
    "    if cv2.waitKey(1) & 0xFF == ord('q'):\n",
    "        break\n",
    "\n",
    "cap.release()\n",
    "cv2.destroyAllWindows()"
   ]
  },
  {
   "cell_type": "markdown",
   "metadata": {},
   "source": [
    "##### Extracción y guardado features #####"
   ]
  },
  {
   "cell_type": "code",
   "execution_count": 3,
   "metadata": {},
   "outputs": [],
   "source": [
    "import csv\n",
    "\n",
    "dataset_path = '../Dataset/'\n",
    "\n",
    "# Inicialización MediaPipe Hands\n",
    "mp_hands = mp.solutions.hands\n",
    "hands = mp_hands.Hands(static_image_mode=True, min_detection_confidence=0.7)\n",
    "\n",
    "# Archivo CSV para guardar las features\n",
    "csv_file = '../KNN/asl_features.csv'\n",
    "\n",
    "with open(csv_file, 'w', newline='') as file:\n",
    "    writer = csv.writer(file)\n",
    "    # Iteración en las carpetas del dataset\n",
    "    for label in sorted(os.listdir(dataset_path)):\n",
    "        folder_path = os.path.join(dataset_path, label)\n",
    "        if os.path.isdir(folder_path):\n",
    "            for img_file in os.listdir(folder_path):\n",
    "                img_path = os.path.join(folder_path, img_file)\n",
    "                image = cv2.imread(img_path)\n",
    "\n",
    "                rgb_image = cv2.cvtColor(image, cv2.COLOR_BGR2RGB)\n",
    "\n",
    "                # Detección de landmarks\n",
    "                results = hands.process(rgb_image)\n",
    "                if results.multi_hand_landmarks:\n",
    "                    # Extracción de características de landmarks\n",
    "                    for hand_landmarks in results.multi_hand_landmarks:\n",
    "                        features = []\n",
    "                        for landmark in hand_landmarks.landmark:\n",
    "                            features.extend([landmark.x, landmark.y, landmark.z])\n",
    "                        # Agregando etiqueta de letra\n",
    "                        features.append(label)\n",
    "                        writer.writerow(features)\n"
   ]
  },
  {
   "cell_type": "markdown",
   "metadata": {},
   "source": [
    "##### Subdivisión del dataset en Training y Test Set #####"
   ]
  },
  {
   "cell_type": "code",
   "execution_count": 4,
   "metadata": {},
   "outputs": [],
   "source": [
    "from sklearn.model_selection import train_test_split\n",
    "\n",
    "# Cargando el dataset\n",
    "import pandas as pd\n",
    "data = pd.read_csv('../KNN/asl_features.csv', header=None)\n",
    "X = data.iloc[:, :-1].values  # Features\n",
    "y = data.iloc[:, -1].values   # Etiquetas\n",
    "\n",
    "# Subdivisión del dataset (80% training, 20% test)\n",
    "X_train, X_test, y_train, y_test = train_test_split(X, y, test_size=0.2, random_state=42)"
   ]
  },
  {
   "cell_type": "markdown",
   "metadata": {},
   "source": [
    "##### Buscar el valor óptimo de k #####"
   ]
  },
  {
   "cell_type": "code",
   "execution_count": 5,
   "metadata": {},
   "outputs": [
    {
     "name": "stderr",
     "output_type": "stream",
     "text": [
      "c:\\Users\\anixi\\anaconda3\\envs\\VC_ENV\\Lib\\site-packages\\sklearn\\model_selection\\_split.py:776: UserWarning: The least populated class in y has only 2 members, which is less than n_splits=5.\n",
      "  warnings.warn(\n"
     ]
    },
    {
     "name": "stdout",
     "output_type": "stream",
     "text": [
      "k=1, Accuracy: 0.9799\n",
      "k=2, Accuracy: 0.9569\n"
     ]
    },
    {
     "name": "stderr",
     "output_type": "stream",
     "text": [
      "c:\\Users\\anixi\\anaconda3\\envs\\VC_ENV\\Lib\\site-packages\\sklearn\\model_selection\\_split.py:776: UserWarning: The least populated class in y has only 2 members, which is less than n_splits=5.\n",
      "  warnings.warn(\n",
      "c:\\Users\\anixi\\anaconda3\\envs\\VC_ENV\\Lib\\site-packages\\sklearn\\model_selection\\_split.py:776: UserWarning: The least populated class in y has only 2 members, which is less than n_splits=5.\n",
      "  warnings.warn(\n"
     ]
    },
    {
     "name": "stdout",
     "output_type": "stream",
     "text": [
      "k=3, Accuracy: 0.9455\n",
      "k=4, Accuracy: 0.9368\n"
     ]
    },
    {
     "name": "stderr",
     "output_type": "stream",
     "text": [
      "c:\\Users\\anixi\\anaconda3\\envs\\VC_ENV\\Lib\\site-packages\\sklearn\\model_selection\\_split.py:776: UserWarning: The least populated class in y has only 2 members, which is less than n_splits=5.\n",
      "  warnings.warn(\n",
      "c:\\Users\\anixi\\anaconda3\\envs\\VC_ENV\\Lib\\site-packages\\sklearn\\model_selection\\_split.py:776: UserWarning: The least populated class in y has only 2 members, which is less than n_splits=5.\n",
      "  warnings.warn(\n"
     ]
    },
    {
     "name": "stdout",
     "output_type": "stream",
     "text": [
      "k=5, Accuracy: 0.9397\n",
      "k=6, Accuracy: 0.9383\n"
     ]
    },
    {
     "name": "stderr",
     "output_type": "stream",
     "text": [
      "c:\\Users\\anixi\\anaconda3\\envs\\VC_ENV\\Lib\\site-packages\\sklearn\\model_selection\\_split.py:776: UserWarning: The least populated class in y has only 2 members, which is less than n_splits=5.\n",
      "  warnings.warn(\n",
      "c:\\Users\\anixi\\anaconda3\\envs\\VC_ENV\\Lib\\site-packages\\sklearn\\model_selection\\_split.py:776: UserWarning: The least populated class in y has only 2 members, which is less than n_splits=5.\n",
      "  warnings.warn(\n"
     ]
    },
    {
     "name": "stdout",
     "output_type": "stream",
     "text": [
      "k=7, Accuracy: 0.9383\n",
      "k=8, Accuracy: 0.9297\n"
     ]
    },
    {
     "name": "stderr",
     "output_type": "stream",
     "text": [
      "c:\\Users\\anixi\\anaconda3\\envs\\VC_ENV\\Lib\\site-packages\\sklearn\\model_selection\\_split.py:776: UserWarning: The least populated class in y has only 2 members, which is less than n_splits=5.\n",
      "  warnings.warn(\n",
      "c:\\Users\\anixi\\anaconda3\\envs\\VC_ENV\\Lib\\site-packages\\sklearn\\model_selection\\_split.py:776: UserWarning: The least populated class in y has only 2 members, which is less than n_splits=5.\n",
      "  warnings.warn(\n"
     ]
    },
    {
     "name": "stdout",
     "output_type": "stream",
     "text": [
      "k=9, Accuracy: 0.9325\n"
     ]
    },
    {
     "name": "stderr",
     "output_type": "stream",
     "text": [
      "c:\\Users\\anixi\\anaconda3\\envs\\VC_ENV\\Lib\\site-packages\\sklearn\\model_selection\\_split.py:776: UserWarning: The least populated class in y has only 2 members, which is less than n_splits=5.\n",
      "  warnings.warn(\n"
     ]
    },
    {
     "name": "stdout",
     "output_type": "stream",
     "text": [
      "k=10, Accuracy: 0.9225\n",
      "k=11, Accuracy: 0.9196\n"
     ]
    },
    {
     "name": "stderr",
     "output_type": "stream",
     "text": [
      "c:\\Users\\anixi\\anaconda3\\envs\\VC_ENV\\Lib\\site-packages\\sklearn\\model_selection\\_split.py:776: UserWarning: The least populated class in y has only 2 members, which is less than n_splits=5.\n",
      "  warnings.warn(\n",
      "c:\\Users\\anixi\\anaconda3\\envs\\VC_ENV\\Lib\\site-packages\\sklearn\\model_selection\\_split.py:776: UserWarning: The least populated class in y has only 2 members, which is less than n_splits=5.\n",
      "  warnings.warn(\n"
     ]
    },
    {
     "name": "stdout",
     "output_type": "stream",
     "text": [
      "k=12, Accuracy: 0.8981\n"
     ]
    },
    {
     "name": "stderr",
     "output_type": "stream",
     "text": [
      "c:\\Users\\anixi\\anaconda3\\envs\\VC_ENV\\Lib\\site-packages\\sklearn\\model_selection\\_split.py:776: UserWarning: The least populated class in y has only 2 members, which is less than n_splits=5.\n",
      "  warnings.warn(\n"
     ]
    },
    {
     "name": "stdout",
     "output_type": "stream",
     "text": [
      "k=13, Accuracy: 0.8995\n",
      "k=14, Accuracy: 0.8823\n"
     ]
    },
    {
     "name": "stderr",
     "output_type": "stream",
     "text": [
      "c:\\Users\\anixi\\anaconda3\\envs\\VC_ENV\\Lib\\site-packages\\sklearn\\model_selection\\_split.py:776: UserWarning: The least populated class in y has only 2 members, which is less than n_splits=5.\n",
      "  warnings.warn(\n",
      "c:\\Users\\anixi\\anaconda3\\envs\\VC_ENV\\Lib\\site-packages\\sklearn\\model_selection\\_split.py:776: UserWarning: The least populated class in y has only 2 members, which is less than n_splits=5.\n",
      "  warnings.warn(\n"
     ]
    },
    {
     "name": "stdout",
     "output_type": "stream",
     "text": [
      "k=15, Accuracy: 0.8880\n",
      "k=16, Accuracy: 0.8808\n"
     ]
    },
    {
     "name": "stderr",
     "output_type": "stream",
     "text": [
      "c:\\Users\\anixi\\anaconda3\\envs\\VC_ENV\\Lib\\site-packages\\sklearn\\model_selection\\_split.py:776: UserWarning: The least populated class in y has only 2 members, which is less than n_splits=5.\n",
      "  warnings.warn(\n",
      "c:\\Users\\anixi\\anaconda3\\envs\\VC_ENV\\Lib\\site-packages\\sklearn\\model_selection\\_split.py:776: UserWarning: The least populated class in y has only 2 members, which is less than n_splits=5.\n",
      "  warnings.warn(\n"
     ]
    },
    {
     "name": "stdout",
     "output_type": "stream",
     "text": [
      "k=17, Accuracy: 0.8780\n"
     ]
    },
    {
     "name": "stderr",
     "output_type": "stream",
     "text": [
      "c:\\Users\\anixi\\anaconda3\\envs\\VC_ENV\\Lib\\site-packages\\sklearn\\model_selection\\_split.py:776: UserWarning: The least populated class in y has only 2 members, which is less than n_splits=5.\n",
      "  warnings.warn(\n"
     ]
    },
    {
     "name": "stdout",
     "output_type": "stream",
     "text": [
      "k=18, Accuracy: 0.8722\n"
     ]
    },
    {
     "name": "stderr",
     "output_type": "stream",
     "text": [
      "c:\\Users\\anixi\\anaconda3\\envs\\VC_ENV\\Lib\\site-packages\\sklearn\\model_selection\\_split.py:776: UserWarning: The least populated class in y has only 2 members, which is less than n_splits=5.\n",
      "  warnings.warn(\n"
     ]
    },
    {
     "name": "stdout",
     "output_type": "stream",
     "text": [
      "k=19, Accuracy: 0.8736\n",
      "k=20, Accuracy: 0.8708\n",
      "Mejor valor de k: 1\n"
     ]
    },
    {
     "name": "stderr",
     "output_type": "stream",
     "text": [
      "c:\\Users\\anixi\\anaconda3\\envs\\VC_ENV\\Lib\\site-packages\\sklearn\\model_selection\\_split.py:776: UserWarning: The least populated class in y has only 2 members, which is less than n_splits=5.\n",
      "  warnings.warn(\n"
     ]
    }
   ],
   "source": [
    "from sklearn.model_selection import cross_val_score\n",
    "from sklearn.neighbors import KNeighborsClassifier\n",
    "\n",
    "k_values = range(1, 21)\n",
    "mean_accuracies = []\n",
    "\n",
    "for k in k_values:\n",
    "    knn = KNeighborsClassifier(n_neighbors=k)\n",
    "    scores = cross_val_score(knn, X_train, y_train, cv=5)\n",
    "    mean_accuracies.append(scores.mean())\n",
    "    print(f'k={k}, Accuracy: {scores.mean():.4f}')\n",
    "\n",
    "best_k = k_values[np.argmax(mean_accuracies)]\n",
    "print(f'Mejor valor de k: {best_k}')"
   ]
  },
  {
   "cell_type": "markdown",
   "metadata": {},
   "source": [
    "##### Evaluación del modelo con el valor k encontrado #####"
   ]
  },
  {
   "cell_type": "code",
   "execution_count": 6,
   "metadata": {},
   "outputs": [
    {
     "name": "stdout",
     "output_type": "stream",
     "text": [
      "Precisión en el test set: 0.9657\n"
     ]
    }
   ],
   "source": [
    "# Inicialización del modelo\n",
    "knn = KNeighborsClassifier(n_neighbors=best_k)\n",
    "knn.fit(X_train, y_train)\n",
    "\n",
    "# Evaluación en el test set\n",
    "accuracy = knn.score(X_test, y_test)\n",
    "print(f'Precisión en el test set: {accuracy:.4f}')"
   ]
  },
  {
   "cell_type": "markdown",
   "metadata": {},
   "source": [
    "##### Reconocimiento después de hacer clic en el espacio #####"
   ]
  },
  {
   "cell_type": "code",
   "execution_count": 7,
   "metadata": {},
   "outputs": [
    {
     "name": "stdout",
     "output_type": "stream",
     "text": [
      "Reconocimiento activado\n"
     ]
    }
   ],
   "source": [
    "import pickle\n",
    "\n",
    "# cargando el modelo KNN entrenado\n",
    "with open('../Models/knn_model_asl.pkl', 'rb') as f:\n",
    "    knn = pickle.load(f)\n",
    "\n",
    "# Inicialización MediaPipe Hands\n",
    "mp_hands = mp.solutions.hands\n",
    "mp_drawing = mp.solutions.drawing_utils\n",
    "hands = mp_hands.Hands(min_detection_confidence=0.7, min_tracking_confidence=0.7)\n",
    "\n",
    "# Función para normalizar puntos de referencia\n",
    "def normalize_features(hand_landmarks):\n",
    "    x_coords = [landmark.x for landmark in hand_landmarks.landmark]\n",
    "    y_coords = [landmark.y for landmark in hand_landmarks.landmark]\n",
    "\n",
    "    # Cálculo del bounding box de la mano\n",
    "    min_x, max_x = min(x_coords), max(x_coords)\n",
    "    min_y, max_y = min(y_coords), max(y_coords)\n",
    "\n",
    "    # Normalización con respecto al bounding box\n",
    "    normalized_features = []\n",
    "    for landmark in hand_landmarks.landmark:\n",
    "        norm_x = (landmark.x - min_x) / (max_x - min_x)\n",
    "        norm_y = (landmark.y - min_y) / (max_y - min_y)\n",
    "        normalized_features.extend([norm_x, norm_y, landmark.z])  # Puoi includere o escludere Z a seconda dei test\n",
    "    return normalized_features\n",
    "\n",
    "# Variable para habilitar/deshabilitar la predicción\n",
    "recognition_active = False\n",
    "\n",
    "cap = cv2.VideoCapture(0)\n",
    "\n",
    "while cap.isOpened():\n",
    "    success, frame = cap.read()\n",
    "    if not success:\n",
    "        break\n",
    "\n",
    "    rgb_image = cv2.cvtColor(frame, cv2.COLOR_BGR2RGB)\n",
    "    results = hands.process(rgb_image)\n",
    "\n",
    "    if results.multi_hand_landmarks:\n",
    "        for hand_landmarks in results.multi_hand_landmarks:\n",
    "            # Dibuja los landmarks\n",
    "            mp_drawing.draw_landmarks(frame, hand_landmarks, mp_hands.HAND_CONNECTIONS)\n",
    "\n",
    "            if recognition_active:\n",
    "                # Extracción de feature y predicción \n",
    "                features = []\n",
    "                for landmark in hand_landmarks.landmark:\n",
    "                    features.extend([landmark.x, landmark.y, landmark.z])\n",
    "                prediction = knn.predict([features])\n",
    "                \n",
    "                cv2.putText(frame, f'Previsto: {prediction[0]}', (10, 50), cv2.FONT_HERSHEY_SIMPLEX, 1, (255, 0, 0), 2, cv2.LINE_AA)\n",
    "\n",
    "    cv2.imshow('Reconocimiento de lengua de signos', frame)\n",
    "\n",
    "    key = cv2.waitKey(1) & 0xFF\n",
    "    if key == ord('q'):  # Salir del programa\n",
    "        break\n",
    "    elif key == ord(' '):  # Activar/desactivar el reconocimiento con la tecla 'space'\n",
    "        recognition_active = not recognition_active\n",
    "        print(f'Reconocimiento {\"activado\" if recognition_active else \"desactivado\"}')\n",
    "\n",
    "cap.release()\n",
    "cv2.destroyAllWindows()\n"
   ]
  }
 ],
 "metadata": {
  "kernelspec": {
   "display_name": "VC_ENV",
   "language": "python",
   "name": "python3"
  },
  "language_info": {
   "codemirror_mode": {
    "name": "ipython",
    "version": 3
   },
   "file_extension": ".py",
   "mimetype": "text/x-python",
   "name": "python",
   "nbconvert_exporter": "python",
   "pygments_lexer": "ipython3",
   "version": "3.11.5"
  }
 },
 "nbformat": 4,
 "nbformat_minor": 2
}
