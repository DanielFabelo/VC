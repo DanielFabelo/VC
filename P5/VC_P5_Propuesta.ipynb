{
 "cells": [
  {
   "cell_type": "code",
   "execution_count": 6,
   "id": "frank-length",
   "metadata": {},
   "outputs": [
    {
     "name": "stdout",
     "output_type": "stream",
     "text": [
      "Error: Face could not be detected in numpy array.Please confirm that the picture is a face photo or consider to set enforce_detection param to False.\n"
     ]
    }
   ],
   "source": [
    "import cv2\n",
    "from deepface import DeepFace\n",
    "\n",
    "# Cargar las imágenes de superposición\n",
    "lipstick_image = cv2.imread('../P5/images/labios2.png', cv2.IMREAD_UNCHANGED)\n",
    "mustache_image = cv2.imread('../P5/images/mostacho.png', cv2.IMREAD_UNCHANGED)\n",
    "\n",
    "# Verificar si las imágenes se han cargado correctamente\n",
    "if lipstick_image is None:\n",
    "    print(\"Error: No se pudo cargar la imagen de labios en 'path/to/lipstick.png'.\")\n",
    "if mustache_image is None:\n",
    "    print(\"Error: No se pudo cargar la imagen de bigote en 'path/to/mustache.png'.\")\n",
    "\n",
    "# Convertir las imágenes a BGRA si no tienen canal alfa\n",
    "if lipstick_image is not None and lipstick_image.shape[2] == 3:\n",
    "    lipstick_image = cv2.cvtColor(lipstick_image, cv2.COLOR_BGR2BGRA)\n",
    "if mustache_image is not None and mustache_image.shape[2] == 3:\n",
    "    mustache_image = cv2.cvtColor(mustache_image, cv2.COLOR_BGR2BGRA)\n",
    "\n",
    "def overlay_image(background, overlay, position):\n",
    "    x, y = position\n",
    "    h, w = overlay.shape[:2]\n",
    "\n",
    "    # Superponer donde no hay transparencia en overlay\n",
    "    alpha_overlay = overlay[:, :, 3] / 255.0  # Canal alfa de overlay\n",
    "    alpha_background = 1.0 - alpha_overlay\n",
    "\n",
    "    for c in range(0, 3):  # Para cada canal de color\n",
    "        background[y:y+h, x:x+w, c] = (alpha_overlay * overlay[:, :, c] +\n",
    "                                       alpha_background * background[y:y+h, x:x+w, c])\n",
    "    return background\n",
    "\n",
    "# Iniciar la cámara\n",
    "vid = cv2.VideoCapture(0)\n",
    "\n",
    "while True:\n",
    "    ret, frame = vid.read()\n",
    "    if not ret:\n",
    "        break\n",
    "\n",
    "    try:\n",
    "        # Análisis del rostro\n",
    "        result = DeepFace.analyze(frame, actions=['gender'], enforce_detection=False)\n",
    "\n",
    "        # Obtener el género dominante\n",
    "        gender = result[0]['dominant_gender']  # Verificamos que está en result[0]\n",
    "\n",
    "        # Detección de la región facial\n",
    "        faces = DeepFace.extract_faces(frame, detector_backend=\"retinaface\", align=False)\n",
    "        if len(faces) > 0 and 'facial_area' in faces[0]:\n",
    "            facial_area = faces[0]['facial_area']\n",
    "            x, y, w, h = facial_area['x'], facial_area['y'], facial_area['w'], facial_area['h']\n",
    "            \n",
    "            # Aplicar superposición basada en el género\n",
    "            if gender == 'Man' and lipstick_image is not None:\n",
    "                overlay_img = cv2.resize(lipstick_image, (w, h // 2))\n",
    "                frame = overlay_image(frame, overlay_img, (x, y + h // 2))\n",
    "            elif gender == 'Woman' and mustache_image is not None:\n",
    "                overlay_img = cv2.resize(mustache_image, (w, h // 4))\n",
    "                frame = overlay_image(frame, overlay_img, (x, y + h // 2))\n",
    "\n",
    "        # Muestra el frame con la superposición\n",
    "        cv2.imshow(\"Filtro de Género\", frame)\n",
    "    \n",
    "    except Exception as e:\n",
    "        print(\"Error:\", e)\n",
    "\n",
    "    # Esc para salir\n",
    "    if cv2.waitKey(1) & 0xFF == 27:\n",
    "        break\n",
    "\n",
    "# Cerrar cámara y ventanas\n",
    "vid.release()\n",
    "cv2.destroyAllWindows()\n"
   ]
  }
 ],
 "metadata": {
  "kernelspec": {
   "display_name": "VC_P5",
   "language": "python",
   "name": "python3"
  },
  "language_info": {
   "codemirror_mode": {
    "name": "ipython",
    "version": 3
   },
   "file_extension": ".py",
   "mimetype": "text/x-python",
   "name": "python",
   "nbconvert_exporter": "python",
   "pygments_lexer": "ipython3",
   "version": "3.11.5"
  }
 },
 "nbformat": 4,
 "nbformat_minor": 5
}
